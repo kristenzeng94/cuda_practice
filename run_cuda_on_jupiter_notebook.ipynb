{
  "nbformat": 4,
  "nbformat_minor": 0,
  "metadata": {
    "colab": {
      "provenance": [],
      "gpuType": "T4",
      "authorship_tag": "ABX9TyNgZWLPg+VQwnXelfbbm4Yk",
      "include_colab_link": true
    },
    "kernelspec": {
      "name": "python3",
      "display_name": "Python 3"
    },
    "language_info": {
      "name": "python"
    },
    "accelerator": "GPU"
  },
  "cells": [
    {
      "cell_type": "markdown",
      "metadata": {
        "id": "view-in-github",
        "colab_type": "text"
      },
      "source": [
        "<a href=\"https://colab.research.google.com/github/kristenzeng94/cuda_practice/blob/main/run_cuda_on_jupiter_notebook.ipynb\" target=\"_parent\"><img src=\"https://colab.research.google.com/assets/colab-badge.svg\" alt=\"Open In Colab\"/></a>"
      ]
    },
    {
      "cell_type": "markdown",
      "source": [
        "如果运行结果不符合预期，参考这里https://github.com/flin3500/Cuda-Google-Colab"
      ],
      "metadata": {
        "id": "VpDswom3WatO"
      }
    },
    {
      "cell_type": "code",
      "execution_count": 22,
      "metadata": {
        "colab": {
          "base_uri": "https://localhost:8080/"
        },
        "id": "MF0F92GiD_qf",
        "outputId": "60369b6f-3bf2-4e07-e246-7d845a822721"
      },
      "outputs": [
        {
          "output_type": "stream",
          "name": "stdout",
          "text": [
            "nvcc: NVIDIA (R) Cuda compiler driver\n",
            "Copyright (c) 2005-2024 NVIDIA Corporation\n",
            "Built on Thu_Jun__6_02:18:23_PDT_2024\n",
            "Cuda compilation tools, release 12.5, V12.5.82\n",
            "Build cuda_12.5.r12.5/compiler.34385749_0\n"
          ]
        }
      ],
      "source": [
        "!nvcc --version"
      ]
    },
    {
      "cell_type": "code",
      "source": [
        "!pip install nvcc4jupyter"
      ],
      "metadata": {
        "colab": {
          "base_uri": "https://localhost:8080/"
        },
        "id": "mbwv-NOaEuRA",
        "outputId": "6a1352f1-4538-4f42-cffb-11fc7bcdd2c1"
      },
      "execution_count": 23,
      "outputs": [
        {
          "output_type": "stream",
          "name": "stdout",
          "text": [
            "Requirement already satisfied: nvcc4jupyter in /usr/local/lib/python3.11/dist-packages (1.2.1)\n"
          ]
        }
      ]
    },
    {
      "cell_type": "code",
      "source": [
        "%load_ext nvcc4jupyter"
      ],
      "metadata": {
        "colab": {
          "base_uri": "https://localhost:8080/"
        },
        "id": "ddhuBcdVFY6i",
        "outputId": "d6dc89df-0e3b-4563-df6c-ab5fad0184a3"
      },
      "execution_count": 3,
      "outputs": [
        {
          "output_type": "stream",
          "name": "stdout",
          "text": [
            "Detected platform \"Colab\". Running its setup...\n",
            "Source files will be saved in \"/tmp/tmpqo0d38l_\".\n"
          ]
        }
      ]
    },
    {
      "cell_type": "code",
      "source": [
        "%%writefile  hello.cu\n",
        "#include <stdio.h>\n",
        "\n",
        "__global__ void hello(){\n",
        "    printf(\"Hello from block: %u, thread: %u\\n\", blockIdx.x, threadIdx.x);\n",
        "}\n",
        "\n",
        "int main(){\n",
        "    printf(\"here\");\n",
        "    hello<<<2, 2>>>();\n",
        "    cudaDeviceSynchronize();\n",
        "}\n"
      ],
      "metadata": {
        "colab": {
          "base_uri": "https://localhost:8080/"
        },
        "id": "mTrgOt-5F4JR",
        "outputId": "7f847e85-442b-46b4-e051-56a5e2ffe929"
      },
      "execution_count": 28,
      "outputs": [
        {
          "output_type": "stream",
          "name": "stdout",
          "text": [
            "Overwriting hello.cu\n"
          ]
        }
      ]
    },
    {
      "cell_type": "code",
      "source": [
        "!nvcc -arch=sm_75 -gencode=arch=compute_75,code=sm_75 hello.cu -o hello"
      ],
      "metadata": {
        "id": "e10qckb8WwLK"
      },
      "execution_count": 29,
      "outputs": []
    },
    {
      "cell_type": "code",
      "source": [
        "!./hello"
      ],
      "metadata": {
        "colab": {
          "base_uri": "https://localhost:8080/"
        },
        "id": "RZJ6UcteW0Eq",
        "outputId": "02c0a79f-2c52-4357-b2a7-78ddb2e870b0"
      },
      "execution_count": 30,
      "outputs": [
        {
          "output_type": "stream",
          "name": "stdout",
          "text": [
            "hereHello from block: 0, thread: 0\n",
            "Hello from block: 0, thread: 1\n",
            "Hello from block: 1, thread: 0\n",
            "Hello from block: 1, thread: 1\n"
          ]
        }
      ]
    },
    {
      "cell_type": "code",
      "source": [
        "%%cuda_group_save --group shared --name \"error_handling.h\"\n",
        "// error checking macro\n",
        "#define cudaCheckErrors(msg) \\\n",
        "    do { \\\n",
        "        cudaError_t __err = cudaGetLastError(); \\\n",
        "        if (__err != cudaSuccess) { \\\n",
        "            fprintf(stderr, \"Fatal error: %s (%s at %s:%d)\\n\", \\\n",
        "                msg, cudaGetErrorString(__err), \\\n",
        "                __FILE__, __LINE__); \\\n",
        "            fprintf(stderr, \"*** FAILED - ABORTING\\n\"); \\\n",
        "            exit(1); \\\n",
        "        } \\\n",
        "    } while (0)"
      ],
      "metadata": {
        "id": "kwUEP2XZIUhd"
      },
      "execution_count": 5,
      "outputs": []
    },
    {
      "cell_type": "code",
      "source": [
        "%%cuda\n",
        "#include <cstdio>\n",
        "#include <iostream>\n",
        "\n",
        "    using namespace std;\n",
        "\n",
        "__global__ void maxi(int* a, int* b, int n)\n",
        "{\n",
        "    int block = 256 * blockIdx.x;\n",
        "    int max = 0;\n",
        "\n",
        "    for (int i = block; i < min(256 + block, n); i++) {\n",
        "\n",
        "        if (max < a[i]) {\n",
        "            max = a[i];\n",
        "        }\n",
        "    }\n",
        "    b[blockIdx.x] = max;\n",
        "}\n",
        "\n",
        "int main()\n",
        "{\n",
        "\n",
        "    int n;\n",
        "    n = 3 >> 2;\n",
        "    int a[n];\n",
        "\n",
        "    for (int i = 0; i < n; i++) {\n",
        "        a[i] = rand() % n;\n",
        "        cout << a[i] << \"\\t\";\n",
        "    }\n",
        "\n",
        "    cudaEvent_t start, end;\n",
        "    int *ad, *bd;\n",
        "    int size = n * sizeof(int);\n",
        "    cudaMalloc(&ad, size);\n",
        "    cudaMemcpy(ad, a, size, cudaMemcpyHostToDevice);\n",
        "    int grids = ceil(n * 1.0f / 256.0f);\n",
        "    cudaMalloc(&bd, grids * sizeof(int));\n",
        "\n",
        "    dim3 grid(grids, 1);\n",
        "    dim3 block(1, 1);\n",
        "\n",
        "    cudaEventCreate(&start);\n",
        "    cudaEventCreate(&end);\n",
        "    cudaEventRecord(start);\n",
        "\n",
        "    while (n > 1) {\n",
        "        maxi<<<grids, block>>>(ad, bd, n);\n",
        "        n = ceil(n * 1.0f / 256.0f);\n",
        "        cudaMemcpy(ad, bd, n * sizeof(int), cudaMemcpyDeviceToDevice);\n",
        "    }\n",
        "\n",
        "    cudaEventRecord(end);\n",
        "    cudaEventSynchronize(end);\n",
        "\n",
        "    float time = 0;\n",
        "    cudaEventElapsedTime(&time, start, end);\n",
        "\n",
        "    int ans[2];\n",
        "    cudaMemcpy(ans, ad, 4, cudaMemcpyDeviceToHost);\n",
        "\n",
        "    cout << \"The maximum element is : \" << ans[0] << endl;\n",
        "\n",
        "    cout << \"The time required : \";\n",
        "    cout << time << endl;\n",
        "}"
      ],
      "metadata": {
        "id": "aNDoe30DGHKe",
        "colab": {
          "base_uri": "https://localhost:8080/"
        },
        "outputId": "f2ac8376-ba13-4553-b4e2-0d0a1ae9db0c"
      },
      "execution_count": 6,
      "outputs": [
        {
          "output_type": "stream",
          "name": "stdout",
          "text": [
            "The maximum element is : 0\n",
            "The time required : 0.003584\n",
            "\n"
          ]
        }
      ]
    },
    {
      "cell_type": "code",
      "source": [
        "%%writefile reduce.cu\n",
        "\n",
        "#include <cstdio>\n",
        "#include <iostream>\n",
        "#include <cmath>\n",
        "\n",
        "using namespace std;\n",
        "\n",
        "__global__ void reduce(int *input, int *output, int n) {\n",
        "    extern __shared__ int sdata[];\n",
        "\n",
        "    unsigned int tid = threadIdx.x;\n",
        "    unsigned int i = blockIdx.x * (blockDim.x * 2) + threadIdx.x;\n",
        "\n",
        "    // 每个线程处理两个数据点\n",
        "    sdata[tid] = (i < n) ? input[i] : 0;\n",
        "    if (i + blockDim.x < n) {\n",
        "        sdata[tid] += input[i + blockDim.x];\n",
        "    }\n",
        "    __syncthreads();\n",
        "\n",
        "    // 逐步合并结果\n",
        "    for (unsigned int s = blockDim.x / 2; s > 0; s >>= 1) {\n",
        "        if (tid < s) {\n",
        "            sdata[tid] += sdata[tid + s];\n",
        "        }\n",
        "        __syncthreads();\n",
        "    }\n",
        "\n",
        "    // 写入结果\n",
        "    if (tid == 0) {\n",
        "        output[blockIdx.x] = sdata[0];\n",
        "    }\n",
        "}\n",
        "\n",
        "int main()\n",
        "{\n",
        "    int n = 10;\n",
        "    int *input, *output;\n",
        "    int size = n * sizeof(int);\n",
        "\n",
        "    // 分配设备内存\n",
        "    cudaMalloc(&input, size);\n",
        "    cudaMalloc(&output, size);\n",
        "\n",
        "    // 初始化输入数据\n",
        "    int *h_input = new int[n];\n",
        "    for(int i = 0; i < n; i++){\n",
        "        h_input[i] = i + 1;\n",
        "    }\n",
        "    // 将输入数据从主机复制到设备\n",
        "    cudaMemcpy(input, h_input, size, cudaMemcpyHostToDevice);\n",
        "\n",
        "    // 计算网格和线程块大小\n",
        "    int blockSize = 256;\n",
        "    int gridSize = (n + blockSize - 1) / blockSize;\n",
        "\n",
        "    // 启动内核\n",
        "    reduce<<<gridSize, blockSize, blockSize * sizeof(int)>>>(input, output, n);\n",
        "\n",
        "    // 同步设备\n",
        "    cudaDeviceSynchronize();\n",
        "    int *h_output = new int[(n + 255) / 256];\n",
        "    // 将输出数据从设备复制回主机\n",
        "    cudaMemcpy(h_output, output, (gridSize * sizeof(int)), cudaMemcpyDeviceToHost);\n",
        "    // 检查输出结果\n",
        "    int totalSum = 0;\n",
        "    for (int i = 0; i < gridSize; i++) {\n",
        "        totalSum += h_output[i];\n",
        "        std::cout << \"Block \" << i << \" result: \" << h_output[i] << std::endl;\n",
        "    }\n",
        "    // 释放设备内存\n",
        "    cudaFree(input);\n",
        "    cudaFree(output);\n",
        "\n",
        "    // 释放主机内存\n",
        "    delete[] h_input;\n",
        "    delete[] h_output;\n",
        "\n",
        "    return 0;\n",
        "}"
      ],
      "metadata": {
        "colab": {
          "base_uri": "https://localhost:8080/"
        },
        "id": "RE3hlcu4HfBa",
        "outputId": "80ab7847-3b63-4e1b-be7c-f3ad67a79699"
      },
      "execution_count": 24,
      "outputs": [
        {
          "output_type": "stream",
          "name": "stdout",
          "text": [
            "Overwriting reduce.cu\n"
          ]
        }
      ]
    },
    {
      "cell_type": "code",
      "source": [
        "!nvcc -arch=sm_75 -gencode=arch=compute_75,code=sm_75 reduce.cu -o reduce"
      ],
      "metadata": {
        "id": "rHmjG1KcV93D"
      },
      "execution_count": 25,
      "outputs": []
    },
    {
      "cell_type": "code",
      "source": [
        "! ./reduce"
      ],
      "metadata": {
        "colab": {
          "base_uri": "https://localhost:8080/"
        },
        "id": "RkoZ0dncWOVH",
        "outputId": "6f0348f1-da53-436c-8f7d-b402ec7553d6"
      },
      "execution_count": 26,
      "outputs": [
        {
          "output_type": "stream",
          "name": "stdout",
          "text": [
            "Block 0 result: 55\n"
          ]
        }
      ]
    },
    {
      "cell_type": "code",
      "source": [
        "%%writefile hello.cu\n",
        "\n",
        "#include<stdio.h>\n",
        "__global__ void hello(void)\n",
        "{\n",
        "    printf(\"GPU: Hello!\\n\");\n",
        "}\n",
        "int main(int argc,char **argv)\n",
        "{\n",
        "    printf(\"CPU: Hello!\\n\");\n",
        "    hello<<<1,10>>>();\n",
        "    cudaDeviceReset();\n",
        "    return 0;\n",
        "}"
      ],
      "metadata": {
        "colab": {
          "base_uri": "https://localhost:8080/"
        },
        "id": "C-Q6sY0mTqkC",
        "outputId": "acbc1290-c4f6-48c4-ec86-8021b0896187"
      },
      "execution_count": 8,
      "outputs": [
        {
          "output_type": "stream",
          "name": "stdout",
          "text": [
            "Writing hello.cu\n"
          ]
        }
      ]
    },
    {
      "cell_type": "code",
      "source": [
        "!nvcc -arch=sm_75 -gencode=arch=compute_75,code=sm_75 hello.cu -o hello"
      ],
      "metadata": {
        "id": "q2kpMUhtUlRc"
      },
      "execution_count": 16,
      "outputs": []
    },
    {
      "cell_type": "code",
      "source": [
        "! ./hello"
      ],
      "metadata": {
        "colab": {
          "base_uri": "https://localhost:8080/"
        },
        "id": "SKatNXUtUWks",
        "outputId": "70977276-72b5-4a2b-a470-54ad46875b75"
      },
      "execution_count": 17,
      "outputs": [
        {
          "output_type": "stream",
          "name": "stdout",
          "text": [
            "CPU: Hello!\n",
            "GPU: Hello!\n",
            "GPU: Hello!\n",
            "GPU: Hello!\n",
            "GPU: Hello!\n",
            "GPU: Hello!\n",
            "GPU: Hello!\n",
            "GPU: Hello!\n",
            "GPU: Hello!\n",
            "GPU: Hello!\n",
            "GPU: Hello!\n"
          ]
        }
      ]
    },
    {
      "cell_type": "markdown",
      "source": [],
      "metadata": {
        "id": "UECVL0T_Uzwh"
      }
    },
    {
      "cell_type": "markdown",
      "source": [],
      "metadata": {
        "id": "x7g6PGjJW-rp"
      }
    },
    {
      "cell_type": "code",
      "source": [],
      "metadata": {
        "colab": {
          "base_uri": "https://localhost:8080/"
        },
        "id": "INGdix9wU0BS",
        "outputId": "51a1a21e-e309-4374-b4e2-4ffa63dfc588"
      },
      "execution_count": 32,
      "outputs": [
        {
          "output_type": "stream",
          "name": "stdout",
          "text": [
            "hello  hello.cu  reduce  reduce.cu  sample_data\n"
          ]
        }
      ]
    }
  ]
}